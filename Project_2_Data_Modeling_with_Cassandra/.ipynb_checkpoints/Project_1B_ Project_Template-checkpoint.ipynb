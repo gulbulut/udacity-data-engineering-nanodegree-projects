{
 "cells": [
  {
   "cell_type": "markdown",
   "metadata": {},
   "source": [
    "# Part I. ETL Pipeline for Pre-Processing the Files"
   ]
  },
  {
   "cell_type": "markdown",
   "metadata": {},
   "source": [
    "## PLEASE RUN THE FOLLOWING CODE FOR PRE-PROCESSING THE FILES"
   ]
  },
  {
   "cell_type": "markdown",
   "metadata": {},
   "source": [
    "#### Import Python packages "
   ]
  },
  {
   "cell_type": "code",
   "execution_count": 1,
   "metadata": {},
   "outputs": [],
   "source": [
    "# Import Python packages \n",
    "import pandas as pd\n",
    "import cassandra\n",
    "import re\n",
    "import os\n",
    "import glob\n",
    "import numpy as np\n",
    "import json\n",
    "import csv"
   ]
  },
  {
   "cell_type": "markdown",
   "metadata": {},
   "source": [
    "#### Creating list of filepaths to process original event csv data files"
   ]
  },
  {
   "cell_type": "code",
   "execution_count": 2,
   "metadata": {},
   "outputs": [
    {
     "name": "stdout",
     "output_type": "stream",
     "text": [
      "/home/gulbulut/repos/udacity-data-engineering-nanodegree-projects/Project_2_Data_Modeling_with_Cassandra/event_data\n",
      "['/home/gulbulut/repos/udacity-data-engineering-nanodegree-projects/Project_2_Data_Modeling_with_Cassandra/event_data/2018-11-08-events.csv', '/home/gulbulut/repos/udacity-data-engineering-nanodegree-projects/Project_2_Data_Modeling_with_Cassandra/event_data/2018-11-27-events.csv', '/home/gulbulut/repos/udacity-data-engineering-nanodegree-projects/Project_2_Data_Modeling_with_Cassandra/event_data/2018-11-11-events.csv', '/home/gulbulut/repos/udacity-data-engineering-nanodegree-projects/Project_2_Data_Modeling_with_Cassandra/event_data/2018-11-25-events.csv', '/home/gulbulut/repos/udacity-data-engineering-nanodegree-projects/Project_2_Data_Modeling_with_Cassandra/event_data/2018-11-21-events.csv', '/home/gulbulut/repos/udacity-data-engineering-nanodegree-projects/Project_2_Data_Modeling_with_Cassandra/event_data/2018-11-15-events.csv', '/home/gulbulut/repos/udacity-data-engineering-nanodegree-projects/Project_2_Data_Modeling_with_Cassandra/event_data/2018-11-09-events.csv', '/home/gulbulut/repos/udacity-data-engineering-nanodegree-projects/Project_2_Data_Modeling_with_Cassandra/event_data/2018-11-22-events.csv', '/home/gulbulut/repos/udacity-data-engineering-nanodegree-projects/Project_2_Data_Modeling_with_Cassandra/event_data/2018-11-03-events.csv', '/home/gulbulut/repos/udacity-data-engineering-nanodegree-projects/Project_2_Data_Modeling_with_Cassandra/event_data/2018-11-02-events.csv', '/home/gulbulut/repos/udacity-data-engineering-nanodegree-projects/Project_2_Data_Modeling_with_Cassandra/event_data/2018-11-23-events.csv', '/home/gulbulut/repos/udacity-data-engineering-nanodegree-projects/Project_2_Data_Modeling_with_Cassandra/event_data/2018-11-26-events.csv', '/home/gulbulut/repos/udacity-data-engineering-nanodegree-projects/Project_2_Data_Modeling_with_Cassandra/event_data/2018-11-04-events.csv', '/home/gulbulut/repos/udacity-data-engineering-nanodegree-projects/Project_2_Data_Modeling_with_Cassandra/event_data/2018-11-24-events.csv', '/home/gulbulut/repos/udacity-data-engineering-nanodegree-projects/Project_2_Data_Modeling_with_Cassandra/event_data/2018-11-01-events.csv', '/home/gulbulut/repos/udacity-data-engineering-nanodegree-projects/Project_2_Data_Modeling_with_Cassandra/event_data/2018-11-19-events.csv', '/home/gulbulut/repos/udacity-data-engineering-nanodegree-projects/Project_2_Data_Modeling_with_Cassandra/event_data/2018-11-13-events.csv', '/home/gulbulut/repos/udacity-data-engineering-nanodegree-projects/Project_2_Data_Modeling_with_Cassandra/event_data/2018-11-17-events.csv', '/home/gulbulut/repos/udacity-data-engineering-nanodegree-projects/Project_2_Data_Modeling_with_Cassandra/event_data/2018-11-28-events.csv', '/home/gulbulut/repos/udacity-data-engineering-nanodegree-projects/Project_2_Data_Modeling_with_Cassandra/event_data/2018-11-06-events.csv', '/home/gulbulut/repos/udacity-data-engineering-nanodegree-projects/Project_2_Data_Modeling_with_Cassandra/event_data/2018-11-14-events.csv', '/home/gulbulut/repos/udacity-data-engineering-nanodegree-projects/Project_2_Data_Modeling_with_Cassandra/event_data/2018-11-05-events.csv', '/home/gulbulut/repos/udacity-data-engineering-nanodegree-projects/Project_2_Data_Modeling_with_Cassandra/event_data/2018-11-10-events.csv', '/home/gulbulut/repos/udacity-data-engineering-nanodegree-projects/Project_2_Data_Modeling_with_Cassandra/event_data/2018-11-29-events.csv', '/home/gulbulut/repos/udacity-data-engineering-nanodegree-projects/Project_2_Data_Modeling_with_Cassandra/event_data/2018-11-18-events.csv', '/home/gulbulut/repos/udacity-data-engineering-nanodegree-projects/Project_2_Data_Modeling_with_Cassandra/event_data/2018-11-12-events.csv', '/home/gulbulut/repos/udacity-data-engineering-nanodegree-projects/Project_2_Data_Modeling_with_Cassandra/event_data/2018-11-20-events.csv', '/home/gulbulut/repos/udacity-data-engineering-nanodegree-projects/Project_2_Data_Modeling_with_Cassandra/event_data/2018-11-16-events.csv', '/home/gulbulut/repos/udacity-data-engineering-nanodegree-projects/Project_2_Data_Modeling_with_Cassandra/event_data/2018-11-30-events.csv', '/home/gulbulut/repos/udacity-data-engineering-nanodegree-projects/Project_2_Data_Modeling_with_Cassandra/event_data/2018-11-07-events.csv']\n"
     ]
    }
   ],
   "source": [
    "# checking your current working directory\n",
    "#print(os.getcwd())\n",
    "\n",
    "# Get your current folder and subfolder event data\n",
    "filepath = os.getcwd() + '/event_data'\n",
    "print(filepath)\n",
    "\n",
    "# Create a for loop to create a list of files and collect each filepath\n",
    "for root, dirs, files in os.walk(filepath):\n",
    "    file_path_list = glob.glob(os.path.join(root,'*'))\n",
    "    print(file_path_list)\n",
    "# join the file path and roots with the subdirectories using glob"
   ]
  },
  {
   "cell_type": "markdown",
   "metadata": {},
   "source": [
    "#### Processing the files to create the data file csv that will be used for Apache Casssandra tables"
   ]
  },
  {
   "cell_type": "code",
   "execution_count": 3,
   "metadata": {},
   "outputs": [],
   "source": [
    "# initiating an empty list of rows that will be generated from each file\n",
    "full_data_rows_list = [] \n",
    "    \n",
    "# for every filepath in the file path list \n",
    "for f in file_path_list:\n",
    "\n",
    "# reading csv file \n",
    "    with open(f, 'r', encoding = 'utf8', newline='') as csvfile: \n",
    "        # creating a csv reader object \n",
    "        csvreader = csv.reader(csvfile) \n",
    "        next(csvreader)\n",
    "        \n",
    " # extracting each data row one by one and append it        \n",
    "        for line in csvreader:\n",
    "            #print(line)\n",
    "            full_data_rows_list.append(line) \n",
    "            \n",
    "# uncomment the code below if you would like to get total number of rows \n",
    "#print(len(full_data_rows_list))\n",
    "# uncomment the code below if you would like to check to see what the list of event data rows will look like\n",
    "#print(full_data_rows_list)\n",
    "\n",
    "# creating a smaller event data csv file called event_datafile_full csv that will be used to insert data into the \\\n",
    "# Apache Cassandra tables\n",
    "csv.register_dialect('myDialect', quoting=csv.QUOTE_ALL, skipinitialspace=True)\n",
    "\n",
    "with open('event_datafile_new.csv', 'w', encoding = 'utf8', newline='') as f:\n",
    "    writer = csv.writer(f, dialect='myDialect')\n",
    "    writer.writerow(['artist','firstName','gender','itemInSession','lastName','length',\\\n",
    "                'level','location','sessionId','song','userId'])\n",
    "    for row in full_data_rows_list:\n",
    "        if (row[0] == ''):\n",
    "            continue\n",
    "        writer.writerow((row[0], row[2], row[3], row[4], row[5], row[6], row[7], row[8], row[12], row[13], row[16]))\n"
   ]
  },
  {
   "cell_type": "code",
   "execution_count": 4,
   "metadata": {},
   "outputs": [
    {
     "name": "stdout",
     "output_type": "stream",
     "text": [
      "6821\n"
     ]
    }
   ],
   "source": [
    "# check the number of rows in your csv file\n",
    "with open('event_datafile_new.csv', 'r', encoding = 'utf8') as f:\n",
    "    print(sum(1 for line in f))"
   ]
  },
  {
   "cell_type": "markdown",
   "metadata": {},
   "source": [
    "# Part II. Complete the Apache Cassandra coding portion of your project. \n",
    "\n",
    "## Now you are ready to work with the CSV file titled <font color=red>event_datafile_new.csv</font>, located within the Workspace directory.  The event_datafile_new.csv contains the following columns: \n",
    "- artist \n",
    "- firstName of user\n",
    "- gender of user\n",
    "- item number in session\n",
    "- last name of user\n",
    "- length of the song\n",
    "- level (paid or free song)\n",
    "- location of the user\n",
    "- sessionId\n",
    "- song title\n",
    "- userId\n",
    "\n",
    "The image below is a screenshot of what the denormalized data should appear like in the <font color=red>**event_datafile_new.csv**</font> after the code above is run:<br>\n",
    "\n",
    "<img src=\"images/image_event_datafile_new.jpg\">"
   ]
  },
  {
   "cell_type": "markdown",
   "metadata": {},
   "source": [
    "## Begin writing your Apache Cassandra code in the cells below"
   ]
  },
  {
   "cell_type": "markdown",
   "metadata": {},
   "source": [
    "#### Creating a Cluster"
   ]
  },
  {
   "cell_type": "code",
   "execution_count": 5,
   "metadata": {},
   "outputs": [],
   "source": [
    "# This should make a connection to a Cassandra instance your local machine \n",
    "# (127.0.0.1)\n",
    "\n",
    "from cassandra.cluster import Cluster\n",
    "cluster = Cluster()\n",
    "\n",
    "# To establish connection and begin executing queries, need a session\n",
    "session = cluster.connect()"
   ]
  },
  {
   "cell_type": "markdown",
   "metadata": {},
   "source": [
    "#### Create Keyspace"
   ]
  },
  {
   "cell_type": "code",
   "execution_count": 6,
   "metadata": {},
   "outputs": [],
   "source": [
    "try:\n",
    "    session.execute(\"\"\"\n",
    "    CREATE KEYSPACE IF NOT EXISTS sparkify \n",
    "    WITH REPLICATION = \n",
    "    { 'class' : 'SimpleStrategy', 'replication_factor' : 1 }\"\"\"\n",
    ")\n",
    "\n",
    "except Exception as e:\n",
    "    print(e) "
   ]
  },
  {
   "cell_type": "markdown",
   "metadata": {},
   "source": [
    "#### Set Keyspace"
   ]
  },
  {
   "cell_type": "code",
   "execution_count": 7,
   "metadata": {},
   "outputs": [],
   "source": [
    "try:\n",
    "    session.set_keyspace('sparkify')\n",
    "except Exception as e:\n",
    "    print(e)\n"
   ]
  },
  {
   "cell_type": "markdown",
   "metadata": {},
   "source": [
    "### Now we need to create tables to run the following queries. Remember, with Apache Cassandra you model the database tables on the queries you want to run."
   ]
  },
  {
   "cell_type": "markdown",
   "metadata": {},
   "source": [
    "## Create queries to ask the following three questions of the data\n",
    "\n",
    "### 1. Give me the artist, song title and song's length in the music app history that was heard during  sessionId = 338, and itemInSession  = 4\n",
    "\n",
    "\n",
    "### 2. Give me only the following: name of artist, song (sorted by itemInSession) and user (first and last name) for userid = 10, sessionid = 182\n",
    "    \n",
    "\n",
    "### 3. Give me every user name (first and last) in my music app history who listened to the song 'All Hands Against His Own'\n",
    "\n",
    "\n"
   ]
  },
  {
   "cell_type": "code",
   "execution_count": 8,
   "metadata": {},
   "outputs": [],
   "source": [
    "## Solution 1\n",
    "query = \"CREATE TABLE IF NOT EXISTS music_library \"\n",
    "query = query + \"(sessionId text, itemInSession text ,artist text,  length text,song_title text,  PRIMARY KEY (sessionId, itemInSession))\"\n",
    "try:\n",
    "    session.execute(query)\n",
    "except Exception as e:\n",
    "    print(e)\n",
    "                    "
   ]
  },
  {
   "cell_type": "code",
   "execution_count": 9,
   "metadata": {
    "scrolled": false
   },
   "outputs": [],
   "source": [
    "file = 'event_datafile_new.csv'\n",
    "\n",
    "with open(file, encoding = 'utf8') as f:\n",
    "    csvreader = csv.reader(f)\n",
    "    next(csvreader) # skip header\n",
    "    for line in csvreader:\n",
    "        query = \"INSERT INTO music_library ( sessionId, itemInSession,artist, song_title, length)\"\n",
    "        query = query + \"VALUES (%s, %s, %s, %s, %s)\"\n",
    "        session.execute(query, (line[8],line[3],line[0], line[9],line[5]))"
   ]
  },
  {
   "cell_type": "markdown",
   "metadata": {},
   "source": [
    "#### Query Description: sessionId and itemInSession columns together as primary key, however partition key is sessionId.\n",
    "\n",
    "####  Print out the artist, song title and song's length in the music app history that was heard during sessionId = 338, and itemInSession = 4"
   ]
  },
  {
   "cell_type": "code",
   "execution_count": 10,
   "metadata": {
    "scrolled": true
   },
   "outputs": [
    {
     "name": "stdout",
     "output_type": "stream",
     "text": [
      "Faithless 495.3073 Music Matters (Mark Knight Dub)\n"
     ]
    }
   ],
   "source": [
    "query = \"select artist,length,song_title from music_library WHERE sessionId = '338' AND itemInSession = '4'\"\n",
    "try:\n",
    "    rows = session.execute(query)\n",
    "except Exception as e:\n",
    "    print(e)\n",
    "    \n",
    "for row in rows:\n",
    "    print (row.artist,row.length,row.song_title)"
   ]
  },
  {
   "cell_type": "code",
   "execution_count": 11,
   "metadata": {},
   "outputs": [],
   "source": [
    "## Solution 2\n",
    "\n",
    "query = \"CREATE TABLE IF NOT EXISTS user_library \"\n",
    "query = query + \"(userid text,sessionId text,itemInSession text , artist text,  first_name text,last_name text,  song text,  PRIMARY KEY ((userid,sessionId),itemInSession))\"\n",
    "try:\n",
    "    session.execute(query)\n",
    "except Exception as e:\n",
    "    print(e)\n",
    "\n",
    "\n",
    "\n",
    "                    "
   ]
  },
  {
   "cell_type": "code",
   "execution_count": 12,
   "metadata": {},
   "outputs": [],
   "source": [
    "file = 'event_datafile_new.csv'\n",
    "\n",
    "with open(file, encoding = 'utf8') as f:\n",
    "    csvreader = csv.reader(f)\n",
    "    next(csvreader) # skip header\n",
    "    for line in csvreader:\n",
    "        query = \"INSERT INTO user_library (userid,sessionId,itemInSession,artist, first_name,last_name,song)\"\n",
    "        query = query + \"VALUES (%s, %s, %s, %s, %s, %s, %s)\"\n",
    "        session.execute(query, (line[10],line[8],line[3],line[0], line[1],line[4],line[9],))\n",
    "                    "
   ]
  },
  {
   "cell_type": "markdown",
   "metadata": {},
   "source": [
    "#### Query Description:  userId and SessionId columns are together as primary key, however partition key is userId.\n",
    "#### The clustering column is itemInSession. The data is sorted in ascending order since itemInSession is clustering column.\n",
    "#### Print out only the following: name of artist, song (sorted by itemInSession) and user (first and last name) for userid = 10, sessionid = 182"
   ]
  },
  {
   "cell_type": "code",
   "execution_count": 13,
   "metadata": {},
   "outputs": [
    {
     "name": "stdout",
     "output_type": "stream",
     "text": [
      "Down To The Bone Keep On Keepin' On Sylvie Cruz\n",
      "Three Drives Greece 2000 Sylvie Cruz\n",
      "Sebastien Tellier Kilometer Sylvie Cruz\n",
      "Lonnie Gordon Catch You Baby (Steve Pitron & Max Sanna Radio Edit) Sylvie Cruz\n"
     ]
    }
   ],
   "source": [
    "query = \"select artist,song, first_name, last_name from user_library WHERE userid = '10' AND sessionId = '182'\"\n",
    "try:\n",
    "    rows = session.execute(query)\n",
    "except Exception as e:\n",
    "    print(e)\n",
    "    \n",
    "for row in rows:\n",
    "    print (row.artist,row.song,row.first_name,row.last_name)"
   ]
  },
  {
   "cell_type": "code",
   "execution_count": 14,
   "metadata": {},
   "outputs": [],
   "source": [
    "## Solution 3\n",
    "query = \"CREATE TABLE IF NOT EXISTS one_song_library \"\n",
    "query = query + \"(  song text, userid text,first_name text,last_name text, PRIMARY KEY (song, userid))\"\n",
    "try:\n",
    "    session.execute(query)\n",
    "except Exception as e:\n",
    "    print(e)\n"
   ]
  },
  {
   "cell_type": "code",
   "execution_count": 15,
   "metadata": {},
   "outputs": [],
   "source": [
    "file = 'event_datafile_new.csv'\n",
    "\n",
    "with open(file, encoding = 'utf8') as f:\n",
    "    csvreader = csv.reader(f)\n",
    "    next(csvreader) # skip header\n",
    "    for line in csvreader:\n",
    "        query = \"INSERT INTO one_song_library (song,userid,first_name,last_name,)\"\n",
    "        query = query + \"VALUES (%s, %s, %s, %s)\"\n",
    "        session.execute(query, (line[9],line[10],line[1],line[4]))"
   ]
  },
  {
   "cell_type": "markdown",
   "metadata": {},
   "source": [
    "#### Query Description: Song and userid columns together as primary key, however partition key is song.\n",
    "\n",
    "#### Print out every user name (first and last) in my music app history who listened to the song 'All Hands Against His Own'"
   ]
  },
  {
   "cell_type": "code",
   "execution_count": 16,
   "metadata": {},
   "outputs": [
    {
     "name": "stdout",
     "output_type": "stream",
     "text": [
      "Jacqueline Lynch\n",
      "Tegan Levine\n",
      "Sara Johnson\n"
     ]
    }
   ],
   "source": [
    "query = \"select first_name, last_name from one_song_library WHERE song = 'All Hands Against His Own'\"\n",
    "try:\n",
    "    rows = session.execute(query)\n",
    "except Exception as e:\n",
    "    print(e)\n",
    "    \n",
    "for row in rows:\n",
    "    print (row.first_name,row.last_name)"
   ]
  },
  {
   "cell_type": "markdown",
   "metadata": {},
   "source": [
    "### Drop the tables before closing out the sessions"
   ]
  },
  {
   "cell_type": "code",
   "execution_count": 17,
   "metadata": {},
   "outputs": [],
   "source": [
    "query = \"drop table music_library\"\n",
    "try:\n",
    "    rows = session.execute(query)\n",
    "except Exception as e:\n",
    "    print(e)\n",
    "    \n",
    "query = \"drop table user_library\"\n",
    "try:\n",
    "    rows = session.execute(query)\n",
    "except Exception as e:\n",
    "    print(e)\n",
    "    \n",
    "query = \"drop table one_song_library\"\n",
    "try:\n",
    "    rows = session.execute(query)\n",
    "except Exception as e:\n",
    "    print(e)"
   ]
  },
  {
   "cell_type": "markdown",
   "metadata": {},
   "source": [
    "### Close the session and cluster connection¶"
   ]
  },
  {
   "cell_type": "code",
   "execution_count": 18,
   "metadata": {},
   "outputs": [],
   "source": [
    "session.shutdown()\n",
    "cluster.shutdown()"
   ]
  },
  {
   "cell_type": "code",
   "execution_count": null,
   "metadata": {},
   "outputs": [],
   "source": []
  },
  {
   "cell_type": "code",
   "execution_count": null,
   "metadata": {},
   "outputs": [],
   "source": []
  }
 ],
 "metadata": {
  "kernelspec": {
   "display_name": "Python 3",
   "language": "python",
   "name": "python3"
  },
  "language_info": {
   "codemirror_mode": {
    "name": "ipython",
    "version": 3
   },
   "file_extension": ".py",
   "mimetype": "text/x-python",
   "name": "python",
   "nbconvert_exporter": "python",
   "pygments_lexer": "ipython3",
   "version": "3.6.9"
  }
 },
 "nbformat": 4,
 "nbformat_minor": 2
}
